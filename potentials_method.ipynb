{
  "cells": [
    {
      "cell_type": "code",
      "execution_count": null,
      "metadata": {
        "colab": {
          "base_uri": "https://localhost:8080/"
        },
        "id": "QDzg88YtJmxg",
        "outputId": "5a8ec0f0-e713-4fcb-e7db-3de5139d16d6"
      },
      "outputs": [
        {
          "output_type": "stream",
          "name": "stdout",
          "text": [
            "Drive already mounted at /content/drive; to attempt to forcibly remount, call drive.mount(\"/content/drive\", force_remount=True).\n"
          ]
        }
      ],
      "source": [
        "from google.colab import drive\n",
        "drive.mount('/content/drive')\n",
        "\n",
        "import multiprocessing\n",
        "import os\n",
        "import numpy as np\n",
        "import cv2\n",
        "import shutil\n",
        "import pickle\n",
        "from google.colab.patches import cv2_imshow"
      ]
    },
    {
      "cell_type": "code",
      "execution_count": null,
      "metadata": {
        "colab": {
          "base_uri": "https://localhost:8080/"
        },
        "id": "1oU1F8NSD54w",
        "outputId": "c49a3974-7f81-4ccc-c0a8-82307db20c2b"
      },
      "outputs": [
        {
          "output_type": "stream",
          "name": "stdout",
          "text": [
            "Текущая деректория: /content/drive/My Drive/Colab Notebooks/results\n"
          ]
        }
      ],
      "source": [
        "# Train directory\n",
        "os.chdir(\"/content/drive/My Drive/Colab Notebooks/train\")\n",
        "images_directory = \"/content/drive/My Drive/Colab Notebooks/new\"\n",
        "\n",
        "# Results directory\n",
        "result_directory = \"/content/drive/My Drive/Colab Notebooks/results\"\n",
        "\n",
        "# Model path\n",
        "model_path = result_directory + \"/models.pickle\"\n",
        "\n",
        "# Pictures to check\n",
        "check_path = \"/content/drive/My Drive/Colab Notebooks/check\"\n",
        "\n",
        "\n",
        "# Free if exists\n",
        "if os.path.isdir(result_directory):\n",
        "  shutil.rmtree(result_directory)\n",
        "\n",
        "# Create directory and change to\n",
        "os.mkdir(result_directory)\n",
        "os.chdir(result_directory)\n",
        "\n",
        "image_size = 127\n",
        "n = 128\n",
        "\n",
        "# Number of reference models in each class\n",
        "reference_model_count = 15\n",
        "\n",
        "print(\"Текущая деректория:\", os.getcwd())"
      ]
    },
    {
      "cell_type": "code",
      "execution_count": null,
      "metadata": {
        "id": "uQ0Rb8IyifFt"
      },
      "outputs": [],
      "source": [
        "def distant(image_1, image_2):\n",
        "  distant = 0.0\n",
        "  for i in range(image_size):\n",
        "    for j in range(image_size):\n",
        "      distant += abs(image_1[i][j] - image_2[i][j])\n",
        "  return distant ** 0.5\n",
        "\n",
        "def get_up(threshed):\n",
        "  color = threshed[0][0]\n",
        "  for i in range(len(threshed)):\n",
        "    for j in range(len(threshed[0])):      \n",
        "      if (np.sum(threshed[i][j]) != color):\n",
        "        return i\n",
        "\n",
        "def get_down(threshed):\n",
        "  color = threshed[0][0]\n",
        "  for i in reversed(range(len(threshed))):\n",
        "    for j in range(len(threshed[0])):  \n",
        "      if (np.sum(threshed[i][j]) != color):\n",
        "        return i\n",
        "\n",
        "def get_left(threshed):\n",
        "  color = threshed[0][0]\n",
        "  for i in range(len(threshed[0])):\n",
        "    for j in range(len(threshed)):  \n",
        "      if (np.sum(threshed[j][i]) != color):\n",
        "        return i\n",
        "\n",
        "def get_right(threshed):\n",
        "  color = threshed[0][0]\n",
        "  for i in reversed(range(len(threshed[0]))):\n",
        "    for j in range(len(threshed)):  \n",
        "      if (np.sum(threshed[j][i]) != color):\n",
        "        return i\n",
        "\n",
        "def preprocess(image):\n",
        "  if image is None:\n",
        "    return\n",
        "  # Monochrome\n",
        "  gray = cv2.cvtColor(image,cv2.COLOR_BGR2GRAY)\n",
        "  et,threshed = cv2.threshold(gray,0, 255,cv2.THRESH_BINARY+cv2.THRESH_OTSU)\n",
        "\n",
        "  # Crop\n",
        "  cropped = threshed[get_up(threshed):get_down(threshed), get_left(threshed):get_right(threshed)]\n",
        "\n",
        "  # Resize\n",
        "  d = max (len(cropped), len(cropped[0]))\n",
        "  prop = (n/d);\n",
        "  resized = cv2.resize(cropped, (int(len(cropped[0]) * prop),int(len(cropped) * prop)))\n",
        "\n",
        "  # Make Borders\n",
        "  w,h = resized.shape\n",
        "  color = int(threshed[0][0])\n",
        "  img = cv2.copyMakeBorder(resized, int((n-w)/2), int((n-w)/2), int((n-h)/2), int((n-h)/2), cv2.BORDER_CONSTANT, value=(color,color,color))\n",
        "\n",
        "  make_white_background = True\n",
        "  \n",
        "  # Make White Background\n",
        "  if (make_white_background):\n",
        "    white_count = 0\n",
        "    black_count = 0\n",
        "    for i in range(len(img)):\n",
        "      for j in range(len(img[i])):\n",
        "        if (img[i][j] == 255):\n",
        "          white_count += 1\n",
        "        else:\n",
        "          black_count += 1\n",
        "\n",
        "    if black_count > white_count:\n",
        "      img = cv2.bitwise_not(img)\n",
        "  return img"
      ]
    },
    {
      "cell_type": "code",
      "execution_count": null,
      "metadata": {
        "id": "CM8pLh5EFlxg"
      },
      "outputs": [],
      "source": [
        "def create_model(path, o, images_directory, return_dict):\n",
        "  images_path = images_directory + \"/\" + path\n",
        "  count = 0\n",
        "  maps = []\n",
        "  for image_path in os.listdir(images_path):\n",
        "    if (count > reference_model_count - 1):\n",
        "      break\n",
        "    count += 1\n",
        "    full_path = images_path + \"/\" + image_path\n",
        "    image = cv2.imread(full_path)\n",
        "    image_map = [[0.0] * len(image[0]) for i in range(len(image))]\n",
        "    width = len(image)\n",
        "    height = len(image[0])\n",
        "    v1_6 = 1 / 6\n",
        "    v1_12 = 1 / 12\n",
        "    for i in range(len(image)):\n",
        "      for j in range(len(image[0])):\n",
        "        if (image[i][j][0] == 255):\n",
        "          image_map[i][j] = 0.0\n",
        "        else:\n",
        "          image_map[i][j] = 1.0\n",
        "        if (i != 0):\n",
        "          if (image[i - 1][j][0] != 255):\n",
        "            image_map[i][j] += v1_6\n",
        "          if (j != 0):\n",
        "            if (image[i - 1][j - 1][0] != 255):\n",
        "              image_map[i][j] += v1_12\n",
        "        if (j != 0):\n",
        "          if (image[i][j - 1][0] != 255):\n",
        "            image_map[i][j] += v1_6\n",
        "          if (i != width - 1):\n",
        "            if (image[i + 1][j - 1][0] != 255):\n",
        "              image_map[i][j] += v1_12\n",
        "        if (i != width - 1):\n",
        "          if (image[i + 1][j][0] != 255):\n",
        "            image_map[i][j] += v1_6\n",
        "          if (j != height - 1):\n",
        "            if (image[i + 1][j + 1][0] != 255):\n",
        "              image_map[i][j] += v1_12\n",
        "        if (j != height - 1):\n",
        "          if (image[i][j + 1][0] != 255):\n",
        "            image_map[i][j] += v1_6\n",
        "          if (i != 0):\n",
        "            if (image[i - 1][j + 1][0] != 255):\n",
        "              image_map[i][j] += v1_12\n",
        "    maps.append(image_map)\n",
        "  return_dict[o] = (path, maps)\n",
        "\n",
        "def create_check_model(path):\n",
        "  full_path = check_path + '/' + path\n",
        "  image = cv2.imread(full_path)\n",
        "\n",
        "  #Preprocessing\n",
        "  image = preprocess(image)\n",
        "\n",
        "  image_map = [[0.0] * len(image[0]) for i in range(len(image))]\n",
        "  width = len(image)\n",
        "  height = len(image[0])\n",
        "  v1_6 = 1 / 6\n",
        "  v1_12 = 1 / 12\n",
        "  for i in range(len(image)):\n",
        "    for j in range(len(image[0])):\n",
        "      if (image[i][j] == 255):\n",
        "        image_map[i][j] = 0.0\n",
        "      else:\n",
        "        image_map[i][j] = 1.0\n",
        "      if (i != 0):\n",
        "        if (image[i - 1][j] != 255):\n",
        "          image_map[i][j] += v1_6\n",
        "        if (j != 0):\n",
        "          if (image[i - 1][j - 1] != 255):\n",
        "            image_map[i][j] += v1_12\n",
        "      if (j != 0):\n",
        "        if (image[i][j - 1] != 255):\n",
        "          image_map[i][j] += v1_6\n",
        "        if (i != width - 1):\n",
        "          if (image[i + 1][j - 1] != 255):\n",
        "            image_map[i][j] += v1_12\n",
        "      if (i != width - 1):\n",
        "        if (image[i + 1][j] != 255):\n",
        "          image_map[i][j] += v1_6\n",
        "        if (j != height - 1):\n",
        "          if (image[i + 1][j + 1] != 255):\n",
        "            image_map[i][j] += v1_12\n",
        "      if (j != height - 1):\n",
        "        if (image[i][j + 1] != 255):\n",
        "          image_map[i][j] += v1_6\n",
        "        if (i != 0):\n",
        "          if (image[i - 1][j + 1] != 255):\n",
        "            image_map[i][j] += v1_12\n",
        "  return image_map"
      ]
    },
    {
      "cell_type": "code",
      "execution_count": null,
      "metadata": {
        "id": "MIvDAT8VDs1h"
      },
      "outputs": [],
      "source": [
        "# Main Cycle\n",
        "procs = []\n",
        "lock = multiprocessing.Lock()\n",
        "\n",
        "manager = multiprocessing.Manager()\n",
        "return_dict = manager.dict()\n",
        "for j, i in enumerate(os.listdir(images_directory)):\n",
        "  p = multiprocessing.Process(target=create_model, args=(i, j, images_directory, return_dict, ))\n",
        "  procs.append(p)\n",
        "  p.start()\n",
        "\n",
        "[proc.join() for proc in procs]\n",
        "\n",
        "\n",
        "models = sorted(return_dict.values(), key = lambda element: element[0])\n",
        "\n",
        "if (os.path.isfile(model_path)):\n",
        "    os.remove(model_path)\n",
        "\n",
        "with open(model_path, 'wb') as f:\n",
        "  pickle.dump(models, f)\n",
        "\n"
      ]
    },
    {
      "cell_type": "code",
      "execution_count": null,
      "metadata": {
        "id": "tdNs_XokqcUy"
      },
      "outputs": [],
      "source": [
        "upload_models = []\n",
        "with open(model_path, 'rb') as f:\n",
        "     upload_models = pickle.load(f)"
      ]
    },
    {
      "cell_type": "code",
      "execution_count": null,
      "metadata": {
        "colab": {
          "base_uri": "https://localhost:8080/",
          "height": 886
        },
        "id": "2nSVyZHOu-J6",
        "outputId": "2516148a-92c5-482e-9500-29a860d345b5"
      },
      "outputs": [
        {
          "output_type": "stream",
          "name": "stdout",
          "text": [
            "C\n"
          ]
        },
        {
          "output_type": "display_data",
          "data": {
            "text/plain": [
              "<PIL.Image.Image image mode=L size=127x128 at 0x7FE281831810>"
            ],
            "image/png": "[encoded data removed]"
          },
          "metadata": {}
        },
        {
          "output_type": "stream",
          "name": "stdout",
          "text": [
            "T\n"
          ]
        },
        {
          "output_type": "display_data",
          "data": {
            "text/plain": [
              "<PIL.Image.Image image mode=L size=128x128 at 0x7FE2818319D0>"
            ],
            "image/png": "[encoded data removed]"
          },
          "metadata": {}
        },
        {
          "output_type": "stream",
          "name": "stdout",
          "text": [
            "1\n"
          ]
        },
        {
          "output_type": "display_data",
          "data": {
            "text/plain": [
              "<PIL.Image.Image image mode=L size=127x128 at 0x7FE281831990>"
            ],
            "image/png": "[encoded data removed]"
          },
          "metadata": {}
        },
        {
          "output_type": "stream",
          "name": "stdout",
          "text": [
            "C\n"
          ]
        },
        {
          "output_type": "display_data",
          "data": {
            "text/plain": [
              "<PIL.Image.Image image mode=L size=128x128 at 0x7FE281831990>"
            ],
            "image/png": "[encoded data removed]"
          },
          "metadata": {}
        },
        {
          "output_type": "stream",
          "name": "stdout",
          "text": [
            "V\n"
          ]
        },
        {
          "output_type": "display_data",
          "data": {
            "text/plain": [
              "<PIL.Image.Image image mode=L size=128x127 at 0x7FE281831990>"
            ],
            "image/png": "[encoded data removed]"
          },
          "metadata": {}
        },
        {
          "output_type": "stream",
          "name": "stdout",
          "text": [
            "8\n"
          ]
        },
        {
          "output_type": "display_data",
          "data": {
            "text/plain": [
              "<PIL.Image.Image image mode=L size=128x128 at 0x7FE2815F9CD0>"
            ],
            "image/png": "[encoded data removed]"
          },
          "metadata": {}
        }
      ],
      "source": [
        "check_models = []\n",
        "\n",
        "for image_path in os.listdir(check_path):\n",
        "  check_models.append(create_check_model(image_path))\n",
        "\n",
        "\n",
        "for i, check_model in enumerate(check_models):\n",
        "  closest = (\"$\", 9999)\n",
        "  for tuple_ in upload_models:\n",
        "    ans = tuple_[0]\n",
        "    sum = 0.0\n",
        "    for model in tuple_[1]:\n",
        "      sum += distant(check_model, model)\n",
        "    if (sum < closest[1]):\n",
        "      closest = (ans, sum)\n",
        "  image = cv2.imread(check_path + '/' + os.listdir(check_path)[i])\n",
        "  print(closest[0])\n",
        "  cv2_imshow(preprocess(image))"
      ]
    }
  ],
  "metadata": {
    "colab": {
      "collapsed_sections": [],
      "name": "Potentials.ipynb",
      "provenance": []
    },
    "kernelspec": {
      "display_name": "Python 3",
      "name": "python3"
    },
    "language_info": {
      "name": "python"
    }
  },
  "nbformat": 4,
  "nbformat_minor": 0
}