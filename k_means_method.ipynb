{
  "nbformat": 4,
  "nbformat_minor": 0,
  "metadata": {
    "colab": {
      "name": "K-means.ipynb",
      "provenance": [],
      "collapsed_sections": []
    },
    "kernelspec": {
      "name": "python3",
      "display_name": "Python 3"
    },
    "language_info": {
      "name": "python"
    }
  },
  "cells": [
    {
      "cell_type": "code",
      "execution_count": null,
      "metadata": {
        "colab": {
          "base_uri": "https://localhost:8080/"
        },
        "id": "iM3UuvupKrhi",
        "outputId": "fce9ef25-ca6c-481a-8d16-8ea6339ecdf5"
      },
      "outputs": [
        {
          "output_type": "stream",
          "name": "stdout",
          "text": [
            "Mounted at /content/drive\n"
          ]
        }
      ],
      "source": [
        "from google.colab import drive\n",
        "drive.mount('/content/drive')\n",
        "fname = \"/content/drive/My Drive/Colab Notebooks/iris.csv.gz\""
      ]
    },
    {
      "cell_type": "code",
      "source": [
        "import scipy\n",
        "import sklearn\n",
        "import pandas as pd\n",
        "import matplotlib\n",
        "import numpy as np\n",
        "import sys\n",
        "import random\n",
        "from sklearn.model_selection import train_test_split\n",
        "\n",
        "# Евклид\n",
        "from scipy.spatial import distance"
      ],
      "metadata": {
        "id": "hT8h3XdgK5Rl"
      },
      "execution_count": null,
      "outputs": []
    },
    {
      "cell_type": "code",
      "source": [
        "dataset = pd.read_csv(fname)"
      ],
      "metadata": {
        "id": "nqlrjJh4K5qA"
      },
      "execution_count": null,
      "outputs": []
    },
    {
      "cell_type": "code",
      "source": [
        "# Срез: отсекаем классы\n",
        "x = dataset.values[:, 0:4]"
      ],
      "metadata": {
        "id": "VPOAC4J0K6Fp"
      },
      "execution_count": null,
      "outputs": []
    },
    {
      "cell_type": "code",
      "source": [
        "# Оставляем только классы\n",
        "y = dataset.values[:, 4]"
      ],
      "metadata": {
        "id": "6F_zRZhkK6M2"
      },
      "execution_count": null,
      "outputs": []
    },
    {
      "cell_type": "code",
      "source": [
        "# Вычисление расстояния между точками\n",
        "def dot_distant(x, first, second):\n",
        "  sum = 0.0\n",
        "  for param_1, param_2 in zip(x[first], x[second]):\n",
        "    sum += (param_2 - param_1) ** 2\n",
        "  return sum ** (0.5)\n",
        "\n",
        "def dot_distant_(x, dot_num, dot):\n",
        "  sum = 0.0\n",
        "  for param_1, param_2 in zip(x[dot_num], dot):\n",
        "    sum += (param_2 - param_1) ** 2\n",
        "  return sum ** (0.5)"
      ],
      "metadata": {
        "id": "q-aC7YlDK99c"
      },
      "execution_count": null,
      "outputs": []
    },
    {
      "cell_type": "code",
      "source": [
        "# K-means\n",
        "\n",
        "# k = int(input('Enter number of clusters: '))\n",
        "k=3\n",
        "\n",
        "if (k < 2):\n",
        "  print('Wrong value')\n",
        "else:\n",
        "  # Выбираем первые k образов в качестве центров кластеров\n",
        "  centers = [i for i in range(k)]\n",
        "  clusters = [[] for i in range(k)]\n",
        "  for i in range(150):\n",
        "    # distance, i, j\n",
        "    min = [np.inf, -1, -1]\n",
        "    for j in range(k):\n",
        "      dist = dot_distant(x, i, j)\n",
        "      if (dist < min[0]):\n",
        "        min = [dist, i, j]\n",
        "    clusters[min[2]].append(x[i])\n",
        "\n",
        "  \n",
        "  # Считаем центры кластеров\n",
        "  center_dots = [[] for i in range(k)]\n",
        "  # Для каждого списка кластера\n",
        "  for i in range(k):\n",
        "    average = [0.0, 0.0, 0.0, 0.0]\n",
        "    # Для каждого параметра образа\n",
        "    for j in range(len(clusters[i])):\n",
        "      for l in range(4):\n",
        "        average[l] += clusters[i][j][l]\n",
        "    for j in range(4):\n",
        "      average[j] /= len(clusters[i])\n",
        "    center_dots[i] = average\n",
        "\n",
        "\n",
        "  # Обновляем центры\n",
        "  old_dots = center_dots\n",
        "  count = 0\n",
        "  # clusters = [[] for i in range(k)]\n",
        "  # center_dots = [[] for i in range(k)]\n",
        "  while count != 100:\n",
        "\n",
        "    # Определяем, к каким кластерам относятся образы\n",
        "    count += 1\n",
        "    clusters = [[] for i in range(k)]\n",
        "    for i in range(150):\n",
        "      min = [np.inf, -1, -1]\n",
        "      for j in range(k):\n",
        "        dist = dot_distant_(x, i, center_dots[j])\n",
        "        if (dist < min[0]):\n",
        "          min = [dist, i, j]\n",
        "      clusters[min[2]].append(x[i])\n",
        "\n",
        "    # Пересчитывем центры кластеров\n",
        "    center_dots = [[] for i in range(k)]\n",
        "    # Для каждоого списка кластера\n",
        "    for i in range(k):\n",
        "      average = [0.0, 0.0, 0.0, 0.0]\n",
        "      # Для каждого образа из кластера\n",
        "      for j in range(len(clusters[i])):\n",
        "        for l in range(4):\n",
        "          average[l] += clusters[i][j][l]\n",
        "      for j in range(4):\n",
        "        average[j] /= len(clusters[i])\n",
        "      center_dots[i] = average\n",
        "\n",
        "\n",
        "    if (old_dots == center_dots or count == 100):\n",
        "      print(\"Old centers: \", old_dots)\n",
        "      print(\"New centers: \", center_dots)\n",
        "      print()\n",
        "      for i in range(k):\n",
        "        print(\"Cluster center: \", (center_dots[i]))\n",
        "        print(\"Cluster images: \", end=\"\")\n",
        "        print([c.tolist() for c in clusters[i]])\n",
        "        print()\n",
        "      break\n",
        "    else:\n",
        "      old_dots = center_dots"
      ],
      "metadata": {
        "colab": {
          "base_uri": "https://localhost:8080/"
        },
        "id": "fJ1g0iCzK-IH",
        "outputId": "b66c987a-ae58-4863-8f73-e19e9fa52f26"
      },
      "execution_count": null,
      "outputs": [
        {
          "output_type": "stream",
          "name": "stdout",
          "text": [
            "Old centers:  [[6.853846153846153, 3.0769230769230766, 5.715384615384615, 2.053846153846153], [5.88360655737705, 2.740983606557377, 4.388524590163935, 1.4344262295081966], [5.005999999999999, 3.4180000000000006, 1.464, 0.2439999999999999]]\n",
            "New centers:  [[6.853846153846153, 3.0769230769230766, 5.715384615384615, 2.053846153846153], [5.88360655737705, 2.740983606557377, 4.388524590163935, 1.4344262295081966], [5.005999999999999, 3.4180000000000006, 1.464, 0.2439999999999999]]\n",
            "\n",
            "Cluster center:  [6.853846153846153, 3.0769230769230766, 5.715384615384615, 2.053846153846153]\n",
            "Cluster images: [[7.0, 3.2, 4.7, 1.4], [6.9, 3.1, 4.9, 1.5], [6.7, 3.0, 5.0, 1.7], [6.3, 3.3, 6.0, 2.5], [7.1, 3.0, 5.9, 2.1], [6.3, 2.9, 5.6, 1.8], [6.5, 3.0, 5.8, 2.2], [7.6, 3.0, 6.6, 2.1], [7.3, 2.9, 6.3, 1.8], [6.7, 2.5, 5.8, 1.8], [7.2, 3.6, 6.1, 2.5], [6.5, 3.2, 5.1, 2.0], [6.4, 2.7, 5.3, 1.9], [6.8, 3.0, 5.5, 2.1], [6.4, 3.2, 5.3, 2.3], [6.5, 3.0, 5.5, 1.8], [7.7, 3.8, 6.7, 2.2], [7.7, 2.6, 6.9, 2.3], [6.9, 3.2, 5.7, 2.3], [7.7, 2.8, 6.7, 2.0], [6.7, 3.3, 5.7, 2.1], [7.2, 3.2, 6.0, 1.8], [6.4, 2.8, 5.6, 2.1], [7.2, 3.0, 5.8, 1.6], [7.4, 2.8, 6.1, 1.9], [7.9, 3.8, 6.4, 2.0], [6.4, 2.8, 5.6, 2.2], [6.1, 2.6, 5.6, 1.4], [7.7, 3.0, 6.1, 2.3], [6.3, 3.4, 5.6, 2.4], [6.4, 3.1, 5.5, 1.8], [6.9, 3.1, 5.4, 2.1], [6.7, 3.1, 5.6, 2.4], [6.9, 3.1, 5.1, 2.3], [6.8, 3.2, 5.9, 2.3], [6.7, 3.3, 5.7, 2.5], [6.7, 3.0, 5.2, 2.3], [6.5, 3.0, 5.2, 2.0], [6.2, 3.4, 5.4, 2.3]]\n",
            "\n",
            "Cluster center:  [5.88360655737705, 2.740983606557377, 4.388524590163935, 1.4344262295081966]\n",
            "Cluster images: [[6.4, 3.2, 4.5, 1.5], [5.5, 2.3, 4.0, 1.3], [6.5, 2.8, 4.6, 1.5], [5.7, 2.8, 4.5, 1.3], [6.3, 3.3, 4.7, 1.6], [4.9, 2.4, 3.3, 1.0], [6.6, 2.9, 4.6, 1.3], [5.2, 2.7, 3.9, 1.4], [5.0, 2.0, 3.5, 1.0], [5.9, 3.0, 4.2, 1.5], [6.0, 2.2, 4.0, 1.0], [6.1, 2.9, 4.7, 1.4], [5.6, 2.9, 3.6, 1.3], [6.7, 3.1, 4.4, 1.4], [5.6, 3.0, 4.5, 1.5], [5.8, 2.7, 4.1, 1.0], [6.2, 2.2, 4.5, 1.5], [5.6, 2.5, 3.9, 1.1], [5.9, 3.2, 4.8, 1.8], [6.1, 2.8, 4.0, 1.3], [6.3, 2.5, 4.9, 1.5], [6.1, 2.8, 4.7, 1.2], [6.4, 2.9, 4.3, 1.3], [6.6, 3.0, 4.4, 1.4], [6.8, 2.8, 4.8, 1.4], [6.0, 2.9, 4.5, 1.5], [5.7, 2.6, 3.5, 1.0], [5.5, 2.4, 3.8, 1.1], [5.5, 2.4, 3.7, 1.0], [5.8, 2.7, 3.9, 1.2], [6.0, 2.7, 5.1, 1.6], [5.4, 3.0, 4.5, 1.5], [6.0, 3.4, 4.5, 1.6], [6.7, 3.1, 4.7, 1.5], [6.3, 2.3, 4.4, 1.3], [5.6, 3.0, 4.1, 1.3], [5.5, 2.5, 4.0, 1.3], [5.5, 2.6, 4.4, 1.2], [6.1, 3.0, 4.6, 1.4], [5.8, 2.6, 4.0, 1.2], [5.0, 2.3, 3.3, 1.0], [5.6, 2.7, 4.2, 1.3], [5.7, 3.0, 4.2, 1.2], [5.7, 2.9, 4.2, 1.3], [6.2, 2.9, 4.3, 1.3], [5.1, 2.5, 3.0, 1.1], [5.7, 2.8, 4.1, 1.3], [5.8, 2.7, 5.1, 1.9], [4.9, 2.5, 4.5, 1.7], [5.7, 2.5, 5.0, 2.0], [5.8, 2.8, 5.1, 2.4], [6.0, 2.2, 5.0, 1.5], [5.6, 2.8, 4.9, 2.0], [6.3, 2.7, 4.9, 1.8], [6.2, 2.8, 4.8, 1.8], [6.1, 3.0, 4.9, 1.8], [6.3, 2.8, 5.1, 1.5], [6.0, 3.0, 4.8, 1.8], [5.8, 2.7, 5.1, 1.9], [6.3, 2.5, 5.0, 1.9], [5.9, 3.0, 5.1, 1.8]]\n",
            "\n",
            "Cluster center:  [5.005999999999999, 3.4180000000000006, 1.464, 0.2439999999999999]\n",
            "Cluster images: [[5.1, 3.5, 1.4, 0.2], [4.9, 3.0, 1.4, 0.2], [4.7, 3.2, 1.3, 0.2], [4.6, 3.1, 1.5, 0.2], [5.0, 3.6, 1.4, 0.2], [5.4, 3.9, 1.7, 0.4], [4.6, 3.4, 1.4, 0.3], [5.0, 3.4, 1.5, 0.2], [4.4, 2.9, 1.4, 0.2], [4.9, 3.1, 1.5, 0.1], [5.4, 3.7, 1.5, 0.2], [4.8, 3.4, 1.6, 0.2], [4.8, 3.0, 1.4, 0.1], [4.3, 3.0, 1.1, 0.1], [5.8, 4.0, 1.2, 0.2], [5.7, 4.4, 1.5, 0.4], [5.4, 3.9, 1.3, 0.4], [5.1, 3.5, 1.4, 0.3], [5.7, 3.8, 1.7, 0.3], [5.1, 3.8, 1.5, 0.3], [5.4, 3.4, 1.7, 0.2], [5.1, 3.7, 1.5, 0.4], [4.6, 3.6, 1.0, 0.2], [5.1, 3.3, 1.7, 0.5], [4.8, 3.4, 1.9, 0.2], [5.0, 3.0, 1.6, 0.2], [5.0, 3.4, 1.6, 0.4], [5.2, 3.5, 1.5, 0.2], [5.2, 3.4, 1.4, 0.2], [4.7, 3.2, 1.6, 0.2], [4.8, 3.1, 1.6, 0.2], [5.4, 3.4, 1.5, 0.4], [5.2, 4.1, 1.5, 0.1], [5.5, 4.2, 1.4, 0.2], [4.9, 3.1, 1.5, 0.1], [5.0, 3.2, 1.2, 0.2], [5.5, 3.5, 1.3, 0.2], [4.9, 3.1, 1.5, 0.1], [4.4, 3.0, 1.3, 0.2], [5.1, 3.4, 1.5, 0.2], [5.0, 3.5, 1.3, 0.3], [4.5, 2.3, 1.3, 0.3], [4.4, 3.2, 1.3, 0.2], [5.0, 3.5, 1.6, 0.6], [5.1, 3.8, 1.9, 0.4], [4.8, 3.0, 1.4, 0.3], [5.1, 3.8, 1.6, 0.2], [4.6, 3.2, 1.4, 0.2], [5.3, 3.7, 1.5, 0.2], [5.0, 3.3, 1.4, 0.2]]\n",
            "\n"
          ]
        }
      ]
    }
  ]
}