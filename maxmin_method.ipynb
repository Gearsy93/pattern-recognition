{
  "nbformat": 4,
  "nbformat_minor": 0,
  "metadata": {
    "colab": {
      "name": "MaxMin.ipynb",
      "provenance": [],
      "collapsed_sections": []
    },
    "kernelspec": {
      "name": "python3",
      "display_name": "Python 3"
    },
    "language_info": {
      "name": "python"
    }
  },
  "cells": [
    {
      "cell_type": "code",
      "execution_count": 1,
      "metadata": {
        "id": "d596Ot33oa2g",
        "colab": {
          "base_uri": "https://localhost:8080/"
        },
        "outputId": "6db31709-fa6b-47c3-fa60-50b824645864"
      },
      "outputs": [
        {
          "output_type": "stream",
          "name": "stdout",
          "text": [
            "Mounted at /content/drive\n"
          ]
        }
      ],
      "source": [
        "from google.colab import drive\n",
        "drive.mount('/content/drive')\n",
        "fname = \"/content/drive/My Drive/Colab Notebooks/iris.csv.gz\""
      ]
    },
    {
      "cell_type": "code",
      "source": [
        "import scipy\n",
        "import sklearn\n",
        "import pandas as pd\n",
        "import matplotlib\n",
        "import numpy as np\n",
        "import sys\n",
        "import random\n",
        "from itertools import combinations\n",
        "from sklearn.model_selection import train_test_split\n",
        "\n",
        "# Евклид\n",
        "from scipy.spatial import distance"
      ],
      "metadata": {
        "id": "xB-7xTOIoola"
      },
      "execution_count": 2,
      "outputs": []
    },
    {
      "cell_type": "code",
      "source": [
        "dataset = pd.read_csv(fname)"
      ],
      "metadata": {
        "id": "kNsKHByVoo5B"
      },
      "execution_count": 3,
      "outputs": []
    },
    {
      "cell_type": "code",
      "source": [
        "# Срез: отсекаем классы\n",
        "x = dataset.values[:, 0:4]"
      ],
      "metadata": {
        "id": "DgNirMCWopFs"
      },
      "execution_count": 4,
      "outputs": []
    },
    {
      "cell_type": "code",
      "source": [
        "# Оставляем только классы\n",
        "y = dataset.values[:, 4]"
      ],
      "metadata": {
        "id": "iUr81NIjopOw"
      },
      "execution_count": 5,
      "outputs": []
    },
    {
      "cell_type": "code",
      "source": [
        ""
      ],
      "metadata": {
        "id": "Ru7DkTNjMpFo"
      },
      "execution_count": null,
      "outputs": []
    },
    {
      "cell_type": "code",
      "source": [
        "# Вычислене расстояния через Евклидову метрику\n",
        "def Euclid(images, image_1_n, image_2_n):\n",
        "  sum = 0.0\n",
        "  for im1_param, im2_param in zip(images[image_1_n], images[image_2_n]):\n",
        "    sum += (im1_param - im2_param) ** 2\n",
        "  return sum ** (0.5)"
      ],
      "metadata": {
        "id": "791TxMm6k8Z5"
      },
      "execution_count": 6,
      "outputs": []
    },
    {
      "cell_type": "code",
      "source": [
        "# Ищем среднее расстояние между всеми центрами\n",
        "def av_center_dist(x, centers):\n",
        "  return np.average(list(Euclid(x, a, b) for a, b in combinations(centers, 2)))"
      ],
      "metadata": {
        "id": "3NLa_U6r5uno"
      },
      "execution_count": 7,
      "outputs": []
    },
    {
      "cell_type": "code",
      "source": [
        "# MaxMin\n",
        "\n",
        "centers = []\n",
        "current_center = random.randint(0, 149)\n",
        "centers.append(current_center)\n",
        "\n",
        "# Ищем второй центр\n",
        "distances = []\n",
        "for i in range(150):\n",
        "  distances.append([Euclid(x, centers[0], i), i])\n",
        "centers.append(max(distances)[1])\n",
        "\n",
        "# Условие выхода из цикла\n",
        "create_cluster = True\n",
        "\n",
        "while create_cluster:\n",
        "  # расстояние до центра, номер образа\n",
        "  distances.clear()\n",
        "  max_ = [-1, -1]\n",
        "  for i in range(150):\n",
        "    if (i not in centers):\n",
        "      local_dists = []\n",
        "      for center in centers:\n",
        "        local_dists.append([Euclid(x, center, i), i])\n",
        "      distances.append(min(local_dists))\n",
        "  max_ = max(distances)\n",
        "  if (max_[0] > av_center_dist(x, centers) / 2.0):\n",
        "    centers.append(max_[1])\n",
        "  else:\n",
        "    create_cluster = False\n",
        "\n",
        "clusters = [[] for i in range(len(centers))]\n",
        "for i in range(150):\n",
        "  dist = [10, -1, -1]\n",
        "  for j in range(len(centers)):\n",
        "    if (Euclid(x, i, j) < dist[0]):\n",
        "      dist = [Euclid(x, i, j), i, j]\n",
        "  clusters[dist[2]].append(i)\n",
        "\n",
        "for i in range(len(centers)):\n",
        "  print(centers[i])\n",
        "  print(clusters[i])\n",
        "\n"
      ],
      "metadata": {
        "id": "UWc3Yn9LopeV",
        "colab": {
          "base_uri": "https://localhost:8080/"
        },
        "outputId": "bb335cbd-e508-4372-dd88-e55e5a480da1"
      },
      "execution_count": 14,
      "outputs": [
        {
          "output_type": "stream",
          "name": "stdout",
          "text": [
            "66\n",
            "[0, 4, 5, 7, 10, 14, 15, 16, 17, 18, 19, 20, 21, 23, 24, 26, 27, 28, 31, 32, 33, 36, 39, 40, 43, 44, 46, 48, 49, 50, 51, 52, 54, 56, 58, 61, 63, 65, 70, 74, 75, 76, 77, 78, 85, 86, 91, 95, 97, 100, 102, 103, 104, 105, 107, 109, 110, 111, 112, 115, 116, 117, 118, 120, 122, 124, 125, 126, 127, 128, 129, 130, 131, 132, 133, 135, 136, 137, 138, 139, 140, 141, 143, 144, 145, 147, 148, 149]\n",
            "22\n",
            "[1, 9, 12, 25, 30, 34, 35, 37, 41, 45, 53, 55, 57, 59, 60, 62, 64, 66, 67, 68, 69, 71, 72, 73, 79, 80, 81, 82, 83, 84, 87, 88, 89, 90, 92, 93, 94, 96, 98, 99, 101, 106, 108, 113, 114, 119, 121, 123, 134, 142, 146]\n",
            "118\n",
            "[2, 3, 6, 8, 11, 13, 22, 29, 38, 42, 47]\n"
          ]
        }
      ]
    },
    {
      "cell_type": "code",
      "source": [
        ""
      ],
      "metadata": {
        "id": "xhEH2bJzOa09"
      },
      "execution_count": 8,
      "outputs": []
    }
  ]
}