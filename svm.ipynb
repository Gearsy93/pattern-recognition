{
  "nbformat": 4,
  "nbformat_minor": 0,
  "metadata": {
    "colab": {
      "name": "SVM.ipynb",
      "provenance": [],
      "collapsed_sections": []
    },
    "kernelspec": {
      "name": "python3",
      "display_name": "Python 3"
    },
    "language_info": {
      "name": "python"
    },
    "accelerator": "TPU"
  },
  "cells": [
    {
      "cell_type": "code",
      "execution_count": 20,
      "metadata": {
        "colab": {
          "base_uri": "https://localhost:8080/"
        },
        "id": "YTImi_tb5sth",
        "outputId": "6f73fce8-ab4b-47e1-f767-74f439a32eea"
      },
      "outputs": [
        {
          "output_type": "stream",
          "name": "stdout",
          "text": [
            "Drive already mounted at /content/drive; to attempt to forcibly remount, call drive.mount(\"/content/drive\", force_remount=True).\n"
          ]
        }
      ],
      "source": [
        "from google.colab import drive\n",
        "drive.mount('/content/drive')\n",
        "fname = \"/content/drive/My Drive/Colab Notebooks/iris.csv.gz\""
      ]
    },
    {
      "cell_type": "code",
      "source": [
        "import pandas as pd\n",
        "import matplotlib.pyplot as plt\n",
        "import numpy as np\n",
        "import random\n",
        "from sklearn.pipeline import make_pipeline\n",
        "from sklearn.svm import SVC\n",
        "from sklearn.model_selection import train_test_split\n",
        "from sklearn.preprocessing import StandardScaler"
      ],
      "metadata": {
        "id": "Kt9E83y_Ux4t"
      },
      "execution_count": 21,
      "outputs": []
    },
    {
      "cell_type": "code",
      "source": [
        "dataset = pd.read_csv(fname)"
      ],
      "metadata": {
        "id": "g3UzEeQ7UyLk"
      },
      "execution_count": 22,
      "outputs": []
    },
    {
      "cell_type": "code",
      "source": [
        "# Срез: отсекаем классы, учитываем вес w0: добавляем столбец единиц\n",
        "x = dataset.values[:, 0:4]\n",
        "x = np.asarray([np.append(i, 1.0) for i in x])"
      ],
      "metadata": {
        "id": "UmJ_fnipUyPc"
      },
      "execution_count": 23,
      "outputs": []
    },
    {
      "cell_type": "code",
      "source": [
        "# Оставляем только классы\n",
        "y = dataset.values[:, 4]\n",
        "y_norm = np.asarray([-1 if i == 'virginica' else 1 for i in y])"
      ],
      "metadata": {
        "id": "LHWa4z2NUyS8"
      },
      "execution_count": 39,
      "outputs": []
    },
    {
      "cell_type": "code",
      "source": [
        "# Перемешать и разделить данные в пропорции 90:10\n",
        "x_train, x_test, y_train, y_test = train_test_split(x,y_norm, test_size=0.2)"
      ],
      "metadata": {
        "id": "Z56nArTtUyWU"
      },
      "execution_count": 41,
      "outputs": []
    },
    {
      "cell_type": "code",
      "source": [
        "def soft_margin_loss(image_x, image_y):\n",
        "  return max(0.1 - image_y * np.dot(x, weights)) + alpha * np.dot(weights, weights)"
      ],
      "metadata": {
        "id": "i3Lq3fy1UyhE"
      },
      "execution_count": 28,
      "outputs": []
    },
    {
      "cell_type": "code",
      "source": [
        "def predict(x_test, weights):\n",
        "  y_prediction = []\n",
        "  for i in x_test:\n",
        "    y_prediction.append(np.sign(np.dot(weights, i)))\n",
        "  return np.asarray(y_prediction)"
      ],
      "metadata": {
        "id": "bKhC48ocBMLA"
      },
      "execution_count": 29,
      "outputs": []
    },
    {
      "cell_type": "code",
      "source": [
        "# \n",
        "def margin(i, y_train, weights, x_train):\n",
        "  return y_train[i] * np.dot(weights, x_train[i])"
      ],
      "metadata": {
        "id": "48oHtk7FH5Qn"
      },
      "execution_count": 30,
      "outputs": []
    },
    {
      "cell_type": "code",
      "source": [
        "# \n",
        "def update_weights(x_train, y_train, margin, i, weights):\n",
        "  return weights - learn_rate * alpha * weights if margin >=1 else weights + (learn_rate*(y_train[i] * x_train[i] - alpha * weights))"
      ],
      "metadata": {
        "id": "DNX01wVrgP3Y"
      },
      "execution_count": 31,
      "outputs": []
    },
    {
      "cell_type": "code",
      "source": [
        "# SVM\n",
        "\n",
        "epochs = 50\n",
        "learn_rate = 0.01\n",
        "# быстрота прропорционального уменьшеная весов (регуляризация)\n",
        "alpha = 0.1\n",
        "\n",
        "# Возможно лучше нормальное распределение\n",
        "weights = np.asarray([random.random() for i in range(x_train.shape[1])])\n",
        "print(\"Начальное распределение весов: \", weights)\n",
        "\n",
        "for epoch in range(epochs):\n",
        "  loss = 0.0\n",
        "  for i, x_image in enumerate(x_train):\n",
        "    margin_ = margin(i, y_train, weights, x_train)\n",
        "    weights = update_weights(x_train, y_train, margin_, i, weights)\n",
        "    loss += soft_margin_loss(x_train[i], y_train[i])\n",
        "\n",
        "print(\"Обновленное распределение весов: \", weights)\n",
        "\n",
        "print(\"Результат предсказания: \", predict(x_test, weights))\n",
        "print(\"Реальное значение: \", y_test)\n",
        "loss = 0.0\n",
        "for pred, real in zip(predict(x_test, weights), y_test):\n",
        "  if pred != real:\n",
        "    loss += 1\n",
        "loss /= (len(y_test) / 100)\n",
        "print(\"Ошибка: \", loss, \"%\")\n",
        "\n",
        "clf = make_pipeline(StandardScaler(), SVC(gamma='auto'))\n",
        "clf.fit(x_train, y_train)\n",
        "\n",
        "print(\"При помощи библиотеки: \", clf.predict(x_test))\n",
        "loss = 0.0\n",
        "for pred, real in zip(clf.predict(x_test), y_test):\n",
        "  if pred != real:\n",
        "    loss += 1\n",
        "loss /= (len(y_test) / 100)\n",
        "print(\"Ошибка: \", loss, \"%\")"
      ],
      "metadata": {
        "id": "xTAQTblKCx8H",
        "colab": {
          "base_uri": "https://localhost:8080/"
        },
        "outputId": "7ea2fcb8-50ab-4feb-d4c1-1c4e911a8928"
      },
      "execution_count": 43,
      "outputs": [
        {
          "output_type": "stream",
          "name": "stdout",
          "text": [
            "Начальное распределение весов:  [0.54116888 0.99286342 0.1805107  0.58847746 0.55302077]\n",
            "Обновленное распределение весов:  [0.5933117387736365 0.5186674528836115 -0.8353097075242902\n",
            " -0.7734712479789244 0.2754103185582833]\n",
            "Результат предсказания:  [ 1. -1.  1. -1. -1. -1. -1.  1.  1.  1. -1. -1.  1. -1. -1.  1.  1.  1.\n",
            "  1.  1. -1.  1. -1.  1. -1.  1. -1.  1.  1.  1.]\n",
            "Реальное значение:  [ 1 -1  1 -1 -1 -1 -1  1  1  1 -1 -1  1 -1 -1  1  1  1  1  1 -1  1 -1  1\n",
            " -1  1 -1 -1  1  1]\n",
            "Ошибка:  3.3333333333333335 %\n",
            "При помощи библиотеки:  [ 1 -1  1 -1 -1 -1 -1  1  1  1 -1 -1  1 -1 -1  1  1  1  1  1 -1  1 -1  1\n",
            " -1  1 -1 -1  1  1]\n",
            "Ошибка:  0.0 %\n"
          ]
        }
      ]
    },
    {
      "cell_type": "code",
      "source": [
        ""
      ],
      "metadata": {
        "id": "UC8g6XSWDAPl"
      },
      "execution_count": 32,
      "outputs": []
    }
  ]
}