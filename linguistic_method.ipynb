{
  "nbformat": 4,
  "nbformat_minor": 0,
  "metadata": {
    "colab": {
      "name": "Linguistic.ipynb",
      "provenance": [],
      "collapsed_sections": []
    },
    "kernelspec": {
      "name": "python3",
      "display_name": "Python 3"
    },
    "language_info": {
      "name": "python"
    }
  },
  "cells": [
    {
      "cell_type": "code",
      "execution_count": null,
      "metadata": {
        "id": "QDzg88YtJmxg",
        "colab": {
          "base_uri": "https://localhost:8080/"
        },
        "outputId": "b240ed0d-1780-4696-a065-d84d94b2d6ac"
      },
      "outputs": [
        {
          "output_type": "stream",
          "name": "stdout",
          "text": [
            "Drive already mounted at /content/drive; to attempt to forcibly remount, call drive.mount(\"/content/drive\", force_remount=True).\n"
          ]
        }
      ],
      "source": [
        "from google.colab import drive\n",
        "drive.mount('/content/drive')\n",
        "\n",
        "import multiprocessing\n",
        "import os\n",
        "import numpy as np\n",
        "import cv2\n",
        "import shutil\n",
        "import pickle\n",
        "from google.colab.patches import cv2_imshow\n",
        "import difflib"
      ]
    },
    {
      "cell_type": "code",
      "source": [
        "# Train directory\n",
        "os.chdir(\"/content/drive/My Drive/Colab Notebooks/train\")\n",
        "images_directory = \"/content/drive/My Drive/Colab Notebooks/tr\"\n",
        "\n",
        "# Results directory\n",
        "result_directory = \"/content/drive/My Drive/Colab Notebooks/results\"\n",
        "\n",
        "# Model path\n",
        "model_path = result_directory + \"/models.pickle\"\n",
        "\n",
        "# Pictures to check\n",
        "check_path = \"/content/drive/My Drive/Colab Notebooks/ch\"\n",
        "\n",
        "\n",
        "# Free if exists\n",
        "if os.path.isdir(result_directory):\n",
        "  shutil.rmtree(result_directory)\n",
        "\n",
        "# Create directory and change to\n",
        "os.mkdir(result_directory)\n",
        "os.chdir(result_directory)\n",
        "\n",
        "\n",
        "print(\"Текущая деректория:\", os.getcwd())"
      ],
      "metadata": {
        "id": "1oU1F8NSD54w",
        "colab": {
          "base_uri": "https://localhost:8080/"
        },
        "outputId": "30c4551f-3d29-41a0-89b9-0f7f56da2d16"
      },
      "execution_count": null,
      "outputs": [
        {
          "output_type": "stream",
          "name": "stdout",
          "text": [
            "Текущая деректория: /content/drive/My Drive/Colab Notebooks/results\n"
          ]
        }
      ]
    },
    {
      "cell_type": "code",
      "source": [
        "def find_start(image_map):\n",
        "  for i in range(image_to_map_size):\n",
        "    for j in reversed(range(image_to_map_size)):\n",
        "      if (image_map[:,i][j] != 0):\n",
        "        return j, i\n",
        "\n",
        "def dir_1(image_map, i, j):\n",
        "  if (i == 0): return False\n",
        "  if (image_map[i - 1][j] == 1):\n",
        "    return True\n",
        "  else:\n",
        "    return False\n",
        "\n",
        "def dir_2(image_map, i, j):\n",
        "  if (i == 0 or j == image_to_map_size - 1): return False\n",
        "  if (image_map[i - 1][j + 1] == 1):\n",
        "    return True\n",
        "  else:\n",
        "    return False\n",
        "\n",
        "def dir_3(image_map, i, j):\n",
        "  if (j == image_to_map_size - 1): return False\n",
        "  if (image_map[i][j + 1] == 1):\n",
        "    return True\n",
        "  else:\n",
        "    return False\n",
        "\n",
        "def dir_4(image_map, i, j):\n",
        "  if (i == image_to_map_size - 1 or j == image_to_map_size - 1): return False\n",
        "  if (image_map[i + 1][j + 1] == 1):\n",
        "    return True\n",
        "  else:\n",
        "    return False\n",
        "\n",
        "def dir_5(image_map, i, j):\n",
        "  if (i == image_to_map_size - 1): return False\n",
        "  if (image_map[i + 1][j] == 1):\n",
        "    return True\n",
        "  else:\n",
        "    return False\n",
        "\n",
        "def dir_6(image_map, i, j):\n",
        "  if (i == image_to_map_size - 1 or j == 0): return False\n",
        "  if (image_map[i + 1][j - 1] == 1):\n",
        "    return True\n",
        "  else:\n",
        "    return False\n",
        "\n",
        "def dir_7(image_map, i, j):\n",
        "  if (j == 0): return False\n",
        "  if (image_map[i][j - 1] == 1):\n",
        "    return True\n",
        "  else:\n",
        "    return False\n",
        "  \n",
        "def dir_8(image_map, i, j):\n",
        "  if (i == 0 or j == 0): return False\n",
        "  if (image_map[i - 1][j - 1] == 1):\n",
        "    return True\n",
        "  else:\n",
        "    return False\n",
        "\n",
        "def neighbour(image_map, i, j):\n",
        "  neighbour_num = 0\n",
        "  direction = 0\n",
        "  i_n = -1\n",
        "  j_n = -1\n",
        "  found = False\n",
        "  if (dir_1(image_map, i, j)):\n",
        "    neighbour_num += 1\n",
        "    if (found == False):\n",
        "      found = True\n",
        "      direction = 1\n",
        "      i_n = i - 1\n",
        "      j_n = j\n",
        "  if (dir_2(image_map, i, j)):\n",
        "    neighbour_num += 1\n",
        "    if (found == False):\n",
        "      found = True\n",
        "      direction = 2\n",
        "      i_n = i - 1\n",
        "      j_n = j + 1\n",
        "  if (dir_3(image_map, i, j)):\n",
        "    neighbour_num += 1\n",
        "    if (found == False):\n",
        "      found = True\n",
        "      direction = 3\n",
        "      i_n = i\n",
        "      j_n = j + 1\n",
        "  if (dir_4(image_map, i, j)):\n",
        "    neighbour_num += 1\n",
        "    if (found == False):\n",
        "      found = True\n",
        "      direction = 4\n",
        "      i_n = i + 1\n",
        "      j_n = j + 1\n",
        "  if (dir_5(image_map, i, j)):\n",
        "    neighbour_num += 1\n",
        "    if (found == False):\n",
        "      found = True\n",
        "      direction = 5\n",
        "      i_n = i + 1\n",
        "      j_n = j\n",
        "  if (dir_6(image_map, i, j)):\n",
        "    neighbour_num += 1\n",
        "    if (found == False):\n",
        "      found = True\n",
        "      direction = 6\n",
        "      i_n = i + 1\n",
        "      j_n = j - 1\n",
        "  if (dir_7(image_map, i, j)):\n",
        "    neighbour_num += 1\n",
        "    if (found == False):\n",
        "      found = True\n",
        "      direction = 7\n",
        "      i_n = i\n",
        "      j_n = j - 1\n",
        "  if (dir_8(image_map, i, j)):\n",
        "    neighbour_num += 1\n",
        "    if (found == False):\n",
        "      found = True\n",
        "      direction = 8\n",
        "      i_n = i - 1\n",
        "      j_n = j - 1\n",
        "\n",
        "  return i_n, j_n, direction, neighbour_num"
      ],
      "metadata": {
        "id": "6cEdPerjXmyl"
      },
      "execution_count": null,
      "outputs": []
    },
    {
      "cell_type": "code",
      "source": [
        "def get_syntax(st_bypass):\n",
        "  st_bypass = st_bypass.replace(\"(00\", \"\")\n",
        "  st_bypass = st_bypass.replace(\"(0)\", \"\")\n",
        "  st_bypass = st_bypass.replace(\"0\", \"\")\n",
        "  for i in range(10):\n",
        "    st_bypass = st_bypass.replace(\"11\", \"1\")\n",
        "    st_bypass = st_bypass.replace(\"22\", \"2\")\n",
        "    st_bypass = st_bypass.replace(\"33\", \"3\")\n",
        "    st_bypass = st_bypass.replace(\"44\", \"4\")\n",
        "    st_bypass = st_bypass.replace(\"55\", \"5\")\n",
        "    st_bypass = st_bypass.replace(\"66\", \"6\")\n",
        "    st_bypass = st_bypass.replace(\"77\", \"7\")\n",
        "    st_bypass = st_bypass.replace(\"88\", \"8\")\n",
        "\n",
        "  for i in range(10):\n",
        "    st_bypass = st_bypass.replace(\"(\", \"+(\")\n",
        "    st_bypass = st_bypass.replace(\"1\", \"+a\")\n",
        "    st_bypass = st_bypass.replace(\"2\", \"+c\")\n",
        "    st_bypass = st_bypass.replace(\"3\", \"+b\")\n",
        "    st_bypass = st_bypass.replace(\"4\", \"+d\")\n",
        "    st_bypass = st_bypass.replace(\"5\", \"-a\")\n",
        "    st_bypass = st_bypass.replace(\"6\", \"-c\")\n",
        "    st_bypass = st_bypass.replace(\"7\", \"-d\")\n",
        "    st_bypass = st_bypass.replace(\"8\", \"-d\")\n",
        "    st_bypass = st_bypass.replace(\"(+\", \"(\")\n",
        "    \n",
        "  for i in range(5):\n",
        "    st_bypass = st_bypass.replace(\"++\", \"+\")\n",
        "  return st_bypass"
      ],
      "metadata": {
        "id": "yKrBHjhGX0fj"
      },
      "execution_count": null,
      "outputs": []
    },
    {
      "cell_type": "code",
      "source": [
        "def main_bypass(image_map_):\n",
        "  i_s, j_s = find_start(image_map_)\n",
        "  # Main Cycle\n",
        "  st_bypass = \"\"\n",
        "  i_head, j_head = -1, -1\n",
        "  i_cur, j_cur = i_s, j_s\n",
        "  i_next, j_next = i_s, j_s\n",
        "  i_oth, j_oth = -1, -1\n",
        "  direction = -1\n",
        "  neighbour_num = -1\n",
        "  neighbour_list = []\n",
        "\n",
        "  while True:\n",
        "    i_cur, j_cur = i_next, j_next\n",
        "    if (image_map_[i_cur][j_cur] == 1):\n",
        "      image_map_[i_cur][j_cur] = 2\n",
        "    i_next, j_next, direction, neighbour_num = neighbour(image_map_, i_cur, j_cur)\n",
        "    if (neighbour_num > 1):\n",
        "      i_put, j_put = i_cur, j_cur\n",
        "\n",
        "      if (i_head != -1 and j_head != -1):\n",
        "        st_bypass += ')'\n",
        "\n",
        "        i_next, j_next = i_head, j_head\n",
        "          \n",
        "\n",
        "        i_oth, j_oth, direction_oth, neighbour_num_oth = neighbour(image_map_, i_next, j_next)\n",
        "        if (neighbour_num_oth == 1):\n",
        "          image_map_[i_next][j_next] = 3\n",
        "          if (len(neighbour_list) > 0):\n",
        "            i_head, j_head = neighbour_list[0]   \n",
        "            del neighbour_list[0]\n",
        "          else:\n",
        "            i_head, j_head = -1, -1\n",
        "        else:\n",
        "          i_next, j_next, direction, neighbour_num = neighbour(image_map_, i_cur, j_cur)\n",
        "        if (i_head == -1 and j_head == -1):\n",
        "          i_phead, j_phead = i_head, j_head\n",
        "          i_head, j_head = i_put, j_put\n",
        "        else:\n",
        "          neighbour_list.append((i_put, j_put))\n",
        "            \n",
        "        image_map_[i_cur][j_cur] = 4\n",
        "      else:\n",
        "        i_head, j_head = i_put, j_put\n",
        "        image_map_[i_cur][j_cur] = 4\n",
        "      st_bypass += '('\n",
        "    if (i_cur == i_next and j_cur == j_next and i_head != -1 and j_head != -1):\n",
        "      i_next, j_next = i_head, j_head\n",
        "      st_bypass += \")(\"\n",
        "\n",
        "    st_bypass += str(direction)\n",
        "    if (\"00\" in st_bypass):\n",
        "      break\n",
        "  return get_syntax(st_bypass)"
      ],
      "metadata": {
        "id": "2YY0ZrpHXnQM"
      },
      "execution_count": null,
      "outputs": []
    },
    {
      "cell_type": "code",
      "source": [
        "def create_model(path, o, images_directory, return_dict):\n",
        "  images_path = images_directory + \"/\" + path\n",
        "  count = 0\n",
        "  for image_path in os.listdir(images_path):\n",
        "    count += 1\n",
        "    full_path = images_path + \"/\" + image_path\n",
        "    image = cv2.imread(full_path)\n",
        "    image_map = [[0] * 16 for i in range(16)]\n",
        "    for i in range(len(image)):\n",
        "      for j in range(len(image[0])):\n",
        "        if (image[i][j][0] != 255):\n",
        "          image_map[i][j] = 1\n",
        "        else:\n",
        "          image_map[i][j] = 0\n",
        "  image_map = np.array(image_map)\n",
        "  syntax = main_bypass(image_map)\n",
        "  return_dict[o] = (path, syntax)\n",
        "\n",
        "def create_check_model(path):\n",
        "  full_path = check_path + '/' + path\n",
        "  image = cv2.imread(full_path)\n",
        "  image_map = [[0] * 16 for i in range(16)]\n",
        "  for i in range(len(image)):\n",
        "    for j in range(len(image[0])):\n",
        "      if (image[i][j][0] != 255):\n",
        "        image_map[i][j] = 1\n",
        "      else:\n",
        "        image_map[i][j] = 0\n",
        "  image_map = np.array(image_map)\n",
        "  syntax = main_bypass(image_map)  \n",
        "  return syntax\n",
        "  #???\n",
        "\n",
        "  # return image_map"
      ],
      "metadata": {
        "id": "CM8pLh5EFlxg"
      },
      "execution_count": null,
      "outputs": []
    },
    {
      "cell_type": "code",
      "source": [
        "# Main Cycle\n",
        "procs = []\n",
        "lock = multiprocessing.Lock()\n",
        "\n",
        "image_to_map_size = 16\n",
        "\n",
        "manager = multiprocessing.Manager()\n",
        "return_dict = manager.dict()\n",
        "for j, i in enumerate(os.listdir(images_directory)):\n",
        "  create_model(i, j, images_directory, return_dict)\n",
        "  p = multiprocessing.Process(target=create_model, args=(i, j, images_directory, return_dict, ))\n",
        "  procs.append(p)\n",
        "  p.start()\n",
        "\n",
        "[proc.join() for proc in procs]\n",
        "\n",
        "\n",
        "models = sorted(return_dict.values())\n",
        "if (os.path.isfile(model_path)):\n",
        "    os.remove(model_path)\n",
        "\n",
        "with open(model_path, 'wb') as f:\n",
        "  pickle.dump(models, f)\n",
        "\n"
      ],
      "metadata": {
        "id": "MIvDAT8VDs1h"
      },
      "execution_count": null,
      "outputs": []
    },
    {
      "cell_type": "code",
      "source": [
        "upload_models = []\n",
        "with open(model_path, 'rb') as f:\n",
        "     upload_models = pickle.load(f)\n"
      ],
      "metadata": {
        "id": "tdNs_XokqcUy"
      },
      "execution_count": null,
      "outputs": []
    },
    {
      "cell_type": "code",
      "source": [
        "check_models = []\n",
        "\n",
        "for image_path in os.listdir(check_path):\n",
        "  check_models.append(create_check_model(image_path))\n",
        "\n",
        "\n",
        "for i, check_model in enumerate(check_models):\n",
        "  closest = (\"$\", -1)\n",
        "  for tuple_ in upload_models:\n",
        "    ans = tuple_[0]\n",
        "    model = tuple_[1]\n",
        "    sim = (difflib.SequenceMatcher(None, check_model, model)).ratio()\n",
        "    if (sim > closest[1]):\n",
        "      closest = (ans, sim)\n",
        "  image = cv2.imread(check_path + '/' + os.listdir(check_path)[i])\n",
        "  print(closest[0])\n",
        "  cv2_imshow((image))"
      ],
      "metadata": {
        "id": "2nSVyZHOu-J6",
        "colab": {
          "base_uri": "https://localhost:8080/",
          "height": 119
        },
        "outputId": "46c902ab-e74a-4b67-dec6-fb1a9b3f8d6f"
      },
      "execution_count": null,
      "outputs": [
        {
          "output_type": "stream",
          "name": "stdout",
          "text": [
            "8\n"
          ]
        },
        {
          "output_type": "display_data",
          "data": {
            "text/plain": [
              "<PIL.Image.Image image mode=RGB size=16x16 at 0x7F207DDB8690>"
            ],
            "image/png": "[encoded data removed]"
          },
          "metadata": {}
        },
        {
          "output_type": "stream",
          "name": "stdout",
          "text": [
            "0\n"
          ]
        },
        {
          "output_type": "display_data",
          "data": {
            "text/plain": [
              "<PIL.Image.Image image mode=RGB size=16x16 at 0x7F207DA34FD0>"
            ],
            "image/png": "[encoded data removed]"
          },
          "metadata": {}
        },
        {
          "output_type": "stream",
          "name": "stdout",
          "text": [
            "7\n"
          ]
        },
        {
          "output_type": "display_data",
          "data": {
            "text/plain": [
              "<PIL.Image.Image image mode=RGB size=16x16 at 0x7F207DA39890>"
            ],
            "image/png": "[encoded data removed]"
          },
          "metadata": {}
        }
      ]
    },
    {
      "cell_type": "code",
      "source": [
        "ii = 3\n",
        "pic = sorted(os.listdir(images_directory + \"/\" + sorted(os.listdir(images_directory))[ii]))[0]\n",
        "path = images_directory + \"/\" + sorted(os.listdir(images_directory))[ii]\n",
        "pic_path = path + \"/\" + pic\n",
        "image = cv2.imread(path + \"/\" + pic)\n",
        "print(pic_path)\n",
        "image_map = [[0] * 16 for i in range(16)]\n",
        "for i in range(len(image)):\n",
        "  for j in range(len(image[0])):\n",
        "    if (image[i][j][0] != 255):\n",
        "      image_map[i][j] = 1\n",
        "    else:\n",
        "      image_map[i][j] = 0\n",
        "\n",
        "\n",
        "\n",
        "image_map = np.array(image_map)\n",
        "\n",
        "print(main_bypass(image_map))\n",
        "savemap = image_map\n",
        "image_to_map_size = 16"
      ],
      "metadata": {
        "id": "gMUaZvKamHtS"
      },
      "execution_count": null,
      "outputs": []
    },
    {
      "cell_type": "code",
      "source": [
        "i_s, j_s = find_start(image_map)\n",
        "# Main Cycle\n",
        "st_bypass = \"\"\n",
        "i_head, j_head = -1, -1\n",
        "i_cur, j_cur = i_s, j_s\n",
        "i_next, j_next = i_s, j_s\n",
        "i_oth, j_oth = -1, -1\n",
        "direction = -1\n",
        "neighbour_num = -1\n",
        "neighbour_list = []\n",
        "\n",
        "while True:\n",
        "  i_cur, j_cur = i_next, j_next\n",
        "  if (image_map[i_cur][j_cur] == 1):\n",
        "    image_map[i_cur][j_cur] = 2\n",
        "  i_next, j_next, direction, neighbour_num = neighbour(image_map, i_cur, j_cur)\n",
        "  if (neighbour_num > 1):\n",
        "    i_put, j_put = i_cur, j_cur\n",
        "\n",
        "    if (i_head != -1 and j_head != -1):\n",
        "      st_bypass += ')'\n",
        "\n",
        "      i_next, j_next = i_head, j_head\n",
        "        \n",
        "\n",
        "      i_oth, j_oth, direction_oth, neighbour_num_oth = neighbour(image_map, i_next, j_next)\n",
        "      if (neighbour_num_oth == 1):\n",
        "        image_map[i_next][j_next] = 3\n",
        "        if (len(neighbour_list) > 0):\n",
        "          i_head, j_head = neighbour_list[0]   \n",
        "          del neighbour_list[0]\n",
        "        else:\n",
        "          i_head, j_head = -1, -1\n",
        "      else:\n",
        "        i_next, j_next, direction, neighbour_num = neighbour(image_map, i_cur, j_cur)\n",
        "      if (i_head == -1 and j_head == -1):\n",
        "        i_phead, j_phead = i_head, j_head\n",
        "        i_head, j_head = i_put, j_put\n",
        "      else:\n",
        "        neighbour_list.append((i_put, j_put))\n",
        "          \n",
        "      image_map[i_cur][j_cur] = 4\n",
        "    else:\n",
        "      i_head, j_head = i_put, j_put\n",
        "      image_map[i_cur][j_cur] = 4\n",
        "    st_bypass += '('\n",
        "  if (i_cur == i_next and j_cur == j_next and i_head != -1 and j_head != -1):\n",
        "    i_next, j_next = i_head, j_head\n",
        "    st_bypass += \")(\"\n",
        "\n",
        "  st_bypass += str(direction)\n",
        "  if (\"00\" in st_bypass):\n",
        "    break\n",
        "print(image_map)\n",
        "print(st_bypass)"
      ],
      "metadata": {
        "id": "6y0MTwFPdzuz"
      },
      "execution_count": null,
      "outputs": []
    }
  ]
}